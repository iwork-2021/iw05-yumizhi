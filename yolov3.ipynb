{
 "cells": [
  {
   "cell_type": "code",
   "execution_count": 2,
   "id": "a003af56",
   "metadata": {},
   "outputs": [
    {
     "name": "stderr",
     "output_type": "stream",
     "text": [
      "YOLOv3 🚀 v9.6.0-3-gb870de5 torch 1.10.0 CPU\n"
     ]
    },
    {
     "name": "stdout",
     "output_type": "stream",
     "text": [
      "Setup complete ✅\n"
     ]
    }
   ],
   "source": [
    "import os, sys\n",
    "import numpy as np\n",
    "import pandas as pd\n",
    "\n",
    "%matplotlib inline\n",
    "import matplotlib.pyplot as plt\n",
    "\n",
    "import torch\n",
    "import utils\n",
    "display = utils.notebook_init()  # checks"
   ]
  },
  {
   "cell_type": "code",
   "execution_count": 17,
   "id": "eb63b353",
   "metadata": {},
   "outputs": [],
   "source": [
    "data_dir = \"snacks\"\n",
    "train_dir = os.path.join(data_dir, \"train\")\n",
    "val_dir = os.path.join(data_dir, \"val\")\n",
    "test_dir = os.path.join(data_dir, \"test\")\n",
    "images_train_dir = os.path.join(data_dir, \"images_train\")\n",
    "images_val_dir = os.path.join(data_dir, \"images_val\")\n",
    "images_test_dir = os.path.join(data_dir, \"images_test\")\n",
    "labels_train_dir = os.path.join(data_dir, \"labels_train\")\n",
    "labels_val_dir = os.path.join(data_dir, \"labels_val\")\n",
    "labels_test_dir = os.path.join(data_dir, \"labels_test\")"
   ]
  },
  {
   "cell_type": "code",
   "execution_count": 4,
   "id": "3e358b4e",
   "metadata": {},
   "outputs": [
    {
     "data": {
      "text/html": [
       "<div>\n",
       "<style scoped>\n",
       "    .dataframe tbody tr th:only-of-type {\n",
       "        vertical-align: middle;\n",
       "    }\n",
       "\n",
       "    .dataframe tbody tr th {\n",
       "        vertical-align: top;\n",
       "    }\n",
       "\n",
       "    .dataframe thead th {\n",
       "        text-align: right;\n",
       "    }\n",
       "</style>\n",
       "<table border=\"1\" class=\"dataframe\">\n",
       "  <thead>\n",
       "    <tr style=\"text-align: right;\">\n",
       "      <th></th>\n",
       "      <th>image_id</th>\n",
       "      <th>x_min</th>\n",
       "      <th>x_max</th>\n",
       "      <th>y_min</th>\n",
       "      <th>y_max</th>\n",
       "      <th>class_name</th>\n",
       "      <th>folder</th>\n",
       "    </tr>\n",
       "  </thead>\n",
       "  <tbody>\n",
       "    <tr>\n",
       "      <th>0</th>\n",
       "      <td>009218ad38ab2010</td>\n",
       "      <td>0.192620</td>\n",
       "      <td>0.729831</td>\n",
       "      <td>0.127606</td>\n",
       "      <td>0.662219</td>\n",
       "      <td>cake</td>\n",
       "      <td>cake</td>\n",
       "    </tr>\n",
       "    <tr>\n",
       "      <th>1</th>\n",
       "      <td>009218ad38ab2010</td>\n",
       "      <td>0.802377</td>\n",
       "      <td>1.000000</td>\n",
       "      <td>0.102585</td>\n",
       "      <td>0.405338</td>\n",
       "      <td>ice cream</td>\n",
       "      <td>cake</td>\n",
       "    </tr>\n",
       "    <tr>\n",
       "      <th>2</th>\n",
       "      <td>009218ad38ab2010</td>\n",
       "      <td>0.814884</td>\n",
       "      <td>0.970607</td>\n",
       "      <td>0.121768</td>\n",
       "      <td>0.357798</td>\n",
       "      <td>ice cream</td>\n",
       "      <td>cake</td>\n",
       "    </tr>\n",
       "    <tr>\n",
       "      <th>3</th>\n",
       "      <td>00c7515143b32051</td>\n",
       "      <td>0.135084</td>\n",
       "      <td>0.904315</td>\n",
       "      <td>0.081735</td>\n",
       "      <td>0.909091</td>\n",
       "      <td>cake</td>\n",
       "      <td>muffin</td>\n",
       "    </tr>\n",
       "    <tr>\n",
       "      <th>4</th>\n",
       "      <td>00c7515143b32051</td>\n",
       "      <td>0.155722</td>\n",
       "      <td>0.910569</td>\n",
       "      <td>0.083403</td>\n",
       "      <td>0.893244</td>\n",
       "      <td>muffin</td>\n",
       "      <td>muffin</td>\n",
       "    </tr>\n",
       "  </tbody>\n",
       "</table>\n",
       "</div>"
      ],
      "text/plain": [
       "           image_id     x_min     x_max     y_min     y_max class_name  folder\n",
       "0  009218ad38ab2010  0.192620  0.729831  0.127606  0.662219       cake    cake\n",
       "1  009218ad38ab2010  0.802377  1.000000  0.102585  0.405338  ice cream    cake\n",
       "2  009218ad38ab2010  0.814884  0.970607  0.121768  0.357798  ice cream    cake\n",
       "3  00c7515143b32051  0.135084  0.904315  0.081735  0.909091       cake  muffin\n",
       "4  00c7515143b32051  0.155722  0.910569  0.083403  0.893244     muffin  muffin"
      ]
     },
     "execution_count": 4,
     "metadata": {},
     "output_type": "execute_result"
    }
   ],
   "source": [
    "train_annotations = pd.read_csv(os.path.join(data_dir, \"annotations-train.csv\"))\n",
    "train_annotations.head()\n",
    "    "
   ]
  },
  {
   "cell_type": "code",
   "execution_count": 5,
   "id": "887f86c9",
   "metadata": {},
   "outputs": [
    {
     "name": "stdout",
     "output_type": "stream",
     "text": [
      "0.19262\n"
     ]
    }
   ],
   "source": [
    "print(train_annotations.iloc[0][1])"
   ]
  },
  {
   "cell_type": "code",
   "execution_count": 6,
   "id": "10561a32",
   "metadata": {},
   "outputs": [],
   "source": [
    "val_annotations = pd.read_csv(os.path.join(data_dir, \"annotations-val.csv\"))\n",
    "test_annotations = pd.read_csv(os.path.join(data_dir, \"annotations-test.csv\"))"
   ]
  },
  {
   "cell_type": "code",
   "execution_count": 7,
   "id": "8d1657ab",
   "metadata": {},
   "outputs": [],
   "source": [
    "label_index = {'apple':0, 'strawberry':1, 'popcorn':2, 'ice cream':3, 'waffle':4, \n",
    "               'doughnut':5, 'watermelon':6, 'muffin':7, 'juice':8, 'cookie':9, \n",
    "               'banana':10, 'grape':11, 'salad':12, 'hot dog':13, 'pineapple':14,\n",
    "               'candy':15, 'cake':16, 'pretzel':17, 'orange':18, 'carrot':19}"
   ]
  },
  {
   "cell_type": "code",
   "execution_count": 21,
   "id": "0a787d7d",
   "metadata": {},
   "outputs": [
    {
     "ename": "NameError",
     "evalue": "name 'load_images_with_annotations' is not defined",
     "output_type": "error",
     "traceback": [
      "\u001b[0;31m---------------------------------------------------------------------------\u001b[0m",
      "\u001b[0;31mNameError\u001b[0m                                 Traceback (most recent call last)",
      "\u001b[0;32m<ipython-input-21-2a1109b620f5>\u001b[0m in \u001b[0;36m<module>\u001b[0;34m\u001b[0m\n\u001b[0;32m----> 1\u001b[0;31m \u001b[0mtrain_data\u001b[0m \u001b[0;34m=\u001b[0m \u001b[0mload_images_with_annotations\u001b[0m\u001b[0;34m(\u001b[0m\u001b[0mtrain_dir\u001b[0m\u001b[0;34m,\u001b[0m \u001b[0mdata_dir\u001b[0m \u001b[0;34m+\u001b[0m \u001b[0;34m\"/annotations-train.csv\"\u001b[0m\u001b[0;34m)\u001b[0m\u001b[0;34m\u001b[0m\u001b[0;34m\u001b[0m\u001b[0m\n\u001b[0m",
      "\u001b[0;31mNameError\u001b[0m: name 'load_images_with_annotations' is not defined"
     ]
    }
   ],
   "source": [
    "train_data = load_images_with_annotations(train_dir, data_dir + \"/annotations-train.csv\")"
   ]
  },
  {
   "cell_type": "code",
   "execution_count": 40,
   "id": "f585117a",
   "metadata": {},
   "outputs": [],
   "source": [
    "from shutil import copy\n",
    "\n",
    "def convert_dataset(data_dir, images_dir, annotations, dst_img_dir, dst_label_dir):\n",
    "    print(images_dir)\n",
    "    labels = os.listdir(images_dir)\n",
    "    print(labels)\n",
    "    for label in labels:\n",
    "        if label == '.DS_Store':\n",
    "            continue\n",
    "        label_dir = os.path.join(images_dir, label)\n",
    "        images = os.listdir(label_dir)\n",
    "        for image in images:\n",
    "            if image[-4:] != '.jpg':\n",
    "                continue\n",
    "            image_index = image[:-4]\n",
    "            image_bds = get_object_bds(image_index, annotations, dst_label_dir)\n",
    "            copy(os.path.join(label_dir, image),os.path.join(dst_img_dir, image))\n"
   ]
  },
  {
   "cell_type": "code",
   "execution_count": null,
   "id": "38144515",
   "metadata": {},
   "outputs": [],
   "source": []
  },
  {
   "cell_type": "code",
   "execution_count": 67,
   "id": "89b60968",
   "metadata": {},
   "outputs": [],
   "source": [
    "import math\n",
    "def get_object_bds(image_index, annotations, dst_label_dir):\n",
    "    # Find the corresponding row(s) in the CSV's dataframe.\n",
    "    rows = annotations[annotations[\"image_id\"] == image_index]\n",
    "\n",
    "    img_annotations = []\n",
    "    for row in rows.itertuples():\n",
    "        # The CSV file stores the coordinate as numbers between 0 and 1,\n",
    "        # but Turi wants pixel coordinates in the image.\n",
    "        xmin = row[2]\n",
    "        xmax = row[3]\n",
    "        ymin = row[4]\n",
    "        ymax = row[5]\n",
    "        \n",
    "        # A bounding box in Turi is given by a center coordinate and the\n",
    "        # width and height, we have them as the four corners of the box.\n",
    "        width = xmax - xmin\n",
    "        height = ymax - ymin\n",
    "        x = xmin + math.floor(width / 2)\n",
    "        y = ymin + math.floor(height / 2)\n",
    "        label_id = label_index[row[6]]\n",
    "#         print(row[6])\n",
    "        img_annotations.append([label_id, x, y, width, height])\n",
    "            \n",
    "        # If there were no annotations for this image, then append a None\n",
    "        # so that we can filter out those images from the SFrame.\n",
    "#     print(img_annotations)\n",
    "    with open(os.path.join(dst_label_dir, image_index) + '.txt', 'w') as output:\n",
    "        for row in img_annotations:\n",
    "            s = \" \".join(map(str, row))\n",
    "            output.write(s+'\\n')\n",
    "#     img_annotations = pd.DataFrame(img_annotations)\n",
    "#     print(img_annotations)\n",
    "#     img_annotations.to_csv(os.path.join(dst_label_dir, image_index) + '.txt', header=None, index=None, sep=' ', mode='a')\n"
   ]
  },
  {
   "cell_type": "code",
   "execution_count": 68,
   "id": "b0f58eaa",
   "metadata": {},
   "outputs": [
    {
     "name": "stdout",
     "output_type": "stream",
     "text": [
      "/Users/ParagonLight/OneDrive/iOS智能开发/yolov3\n",
      "snacks/train\n",
      "['apple', 'strawberry', '.DS_Store', 'popcorn', 'ice cream', 'waffle', 'doughnut', 'watermelon', 'muffin', 'juice', 'cookie', 'banana', 'grape', 'salad', 'hot dog', 'pineapple', 'candy', 'cake', 'pretzel', 'orange', 'carrot']\n"
     ]
    }
   ],
   "source": [
    "cwd = os.getcwd()\n",
    "print(cwd)\n",
    "\n",
    "convert_dataset(data_dir, train_dir, train_annotations, images_train_dir, labels_train_dir)"
   ]
  },
  {
   "cell_type": "code",
   "execution_count": 69,
   "id": "df5de9c3",
   "metadata": {},
   "outputs": [
    {
     "name": "stdout",
     "output_type": "stream",
     "text": [
      "snacks/test\n",
      "['apple', 'strawberry', '.DS_Store', 'popcorn', 'ice cream', 'waffle', 'doughnut', 'watermelon', 'muffin', 'juice', 'cookie', 'banana', 'grape', 'salad', 'hot dog', 'pineapple', 'candy', 'cake', 'pretzel', 'orange', 'carrot']\n"
     ]
    }
   ],
   "source": [
    "convert_dataset(data_dir, test_dir, test_annotations, images_test_dir, labels_test_dir)"
   ]
  },
  {
   "cell_type": "code",
   "execution_count": 70,
   "id": "40f134cd",
   "metadata": {},
   "outputs": [
    {
     "name": "stdout",
     "output_type": "stream",
     "text": [
      "snacks/val\n",
      "['apple', 'strawberry', '.DS_Store', 'popcorn', 'ice cream', 'waffle', 'doughnut', 'watermelon', 'muffin', 'juice', 'cookie', 'banana', 'grape', 'salad', 'hot dog', 'pineapple', 'candy', 'cake', 'pretzel', 'orange', 'carrot']\n"
     ]
    }
   ],
   "source": [
    "convert_dataset(data_dir, val_dir, val_annotations, images_val_dir, labels_val_dir)"
   ]
  },
  {
   "cell_type": "code",
   "execution_count": 73,
   "id": "b7ff25e7",
   "metadata": {},
   "outputs": [
    {
     "ename": "SyntaxError",
     "evalue": "invalid syntax (<ipython-input-73-1754b0b62391>, line 2)",
     "output_type": "error",
     "traceback": [
      "\u001b[0;36m  File \u001b[0;32m\"<ipython-input-73-1754b0b62391>\"\u001b[0;36m, line \u001b[0;32m2\u001b[0m\n\u001b[0;31m    train.py --img 640 --batch 16 --epochs 5 --data snacks.yaml --weights yolov3.pt\u001b[0m\n\u001b[0m                   ^\u001b[0m\n\u001b[0;31mSyntaxError\u001b[0m\u001b[0;31m:\u001b[0m invalid syntax\n"
     ]
    }
   ],
   "source": [
    "# Train YOLOv3 on COCO128 for 5 epochs\n"
   ]
  },
  {
   "cell_type": "code",
   "execution_count": null,
   "id": "facb1018",
   "metadata": {},
   "outputs": [],
   "source": []
  },
  {
   "cell_type": "code",
   "execution_count": null,
   "id": "ad330cad",
   "metadata": {},
   "outputs": [],
   "source": []
  }
 ],
 "metadata": {
  "kernelspec": {
   "display_name": "Python 3",
   "language": "python",
   "name": "python3"
  },
  "language_info": {
   "codemirror_mode": {
    "name": "ipython",
    "version": 3
   },
   "file_extension": ".py",
   "mimetype": "text/x-python",
   "name": "python",
   "nbconvert_exporter": "python",
   "pygments_lexer": "ipython3",
   "version": "3.8.8"
  }
 },
 "nbformat": 4,
 "nbformat_minor": 5
}
